{
 "cells": [
  {
   "cell_type": "markdown",
   "metadata": {},
   "source": [
    "# Mean, Median, Mode, and introducing NumPy"
   ]
  },
  {
   "cell_type": "markdown",
   "metadata": {},
   "source": [
    "## Mean vs. Median"
   ]
  },
  {
   "cell_type": "markdown",
   "metadata": {},
   "source": [
    "Let's create some fake income data, centered around 27,000 with a normal distribution and standard deviation of 15,000, with 10,000 data points. (We'll discuss those terms more later, if you're not familiar with them.)\n",
    "\n",
    "Then, compute the mean (average) - it should be close to 27,000:"
   ]
  },
  {
   "cell_type": "code",
   "execution_count": 2,
   "metadata": {},
   "outputs": [
    {
     "data": {
      "text/plain": [
       "27155.663532999642"
      ]
     },
     "execution_count": 2,
     "metadata": {},
     "output_type": "execute_result"
    }
   ],
   "source": [
    "import numpy as np\n",
    "\n",
    "incomes = np.random.normal(27000, 15000, 10000)\n",
    "np.mean(incomes)"
   ]
  },
  {
   "cell_type": "markdown",
   "metadata": {},
   "source": [
    "We can segment the income data into 50 buckets, and plot it as a histogram:"
   ]
  },
  {
   "cell_type": "code",
   "execution_count": 11,
   "metadata": {},
   "outputs": [
    {
     "data": {
      "image/png": "[encoded data removed]",
      "text/plain": [
       "<Figure size 432x288 with 1 Axes>"
      ]
     },
     "metadata": {
      "needs_background": "light"
     },
     "output_type": "display_data"
    }
   ],
   "source": [
    "%matplotlib inline\n",
    "import matplotlib.pyplot as plt\n",
    "plt.hist(incomes, 50)\n",
    "plt.show()"
   ]
  },
  {
   "cell_type": "markdown",
   "metadata": {},
   "source": [
    "Now compute the median - since we have a nice, even distribution it too should be close to 27,000:"
   ]
  },
  {
   "cell_type": "code",
   "execution_count": 12,
   "metadata": {},
   "outputs": [
    {
     "data": {
      "text/plain": [
       "27251.03391229485"
      ]
     },
     "execution_count": 12,
     "metadata": {},
     "output_type": "execute_result"
    }
   ],
   "source": [
    "np.median(incomes)"
   ]
  },
  {
   "cell_type": "markdown",
   "metadata": {},
   "source": [
    "Now we'll add a billionnaire into the mix."
   ]
  },
  {
   "cell_type": "code",
   "execution_count": 15,
   "metadata": {},
   "outputs": [],
   "source": [
    "incomes = np.append(incomes, [1000000000])"
   ]
  },
  {
   "cell_type": "markdown",
   "metadata": {},
   "source": [
    "The median won't change much, but the mean does:"
   ]
  },
  {
   "cell_type": "code",
   "execution_count": 16,
   "metadata": {},
   "outputs": [
    {
     "data": {
      "text/plain": [
       "27258.872537069958"
      ]
     },
     "execution_count": 16,
     "metadata": {},
     "output_type": "execute_result"
    }
   ],
   "source": [
    "np.median(incomes)"
   ]
  },
  {
   "cell_type": "code",
   "execution_count": 17,
   "metadata": {},
   "outputs": [
    {
     "data": {
      "text/plain": [
       "327057.5462691189"
      ]
     },
     "execution_count": 17,
     "metadata": {},
     "output_type": "execute_result"
    }
   ],
   "source": [
    "np.mean(incomes)"
   ]
  },
  {
   "cell_type": "markdown",
   "metadata": {},
   "source": [
    "## Mode"
   ]
  },
  {
   "cell_type": "markdown",
   "metadata": {},
   "source": [
    "Next, let's generate some fake age data for 500 people:"
   ]
  },
  {
   "cell_type": "code",
   "execution_count": 18,
   "metadata": {},
   "outputs": [
    {
     "data": {
      "text/plain": [
       "array([23, 40, 33, 71, 22, 69, 33, 31, 55, 89, 37, 75, 80, 66, 63, 49, 24,\n",
       "       75, 77, 81, 89, 27, 64, 79, 59, 25, 50, 38, 25, 51, 33, 57, 25, 74,\n",
       "       20, 21, 87, 28, 85, 75, 42, 24, 82, 59, 41, 26, 48, 83, 27, 69, 47,\n",
       "       68, 69, 25, 27, 63, 55, 71, 59, 42, 71, 70, 73, 53, 36, 23, 20, 59,\n",
       "       61, 67, 40, 85, 19, 51, 68, 57, 21, 76, 86, 65, 78, 63, 87, 23, 84,\n",
       "       41, 74, 87, 87, 89, 79, 57, 41, 29, 71, 37, 87, 31, 35, 41, 32, 54,\n",
       "       52, 52, 52, 59, 20, 39, 38, 81, 68, 51, 69, 29, 35, 61, 78, 23, 75,\n",
       "       19, 61, 74, 23, 64, 64, 25, 48, 69, 84, 36, 48, 64, 67, 83, 84, 65,\n",
       "       77, 81, 43, 64, 18, 79, 59, 49, 18, 69, 38, 48, 70, 89, 53, 26, 55,\n",
       "       18, 27, 52, 25, 56, 46, 89, 80, 39, 61, 24, 60, 25, 75, 31, 36, 18,\n",
       "       76, 41, 19, 21, 76, 69, 53, 83, 70, 53, 55, 72, 39, 33, 73, 36, 26,\n",
       "       89, 31, 86, 80, 48, 67, 28, 27, 21, 86, 63, 53, 43, 29, 54, 66, 47,\n",
       "       60, 85, 37, 46, 54, 65, 45, 21, 25, 57, 34, 35, 71, 51, 75, 75, 32,\n",
       "       22, 79, 58, 58, 34, 84, 57, 42, 52, 52, 45, 44, 30, 61, 29, 24, 38,\n",
       "       51, 51, 64, 68, 79, 66, 66, 72, 61, 48, 77, 31, 27, 61, 44, 77, 72,\n",
       "       30, 31, 58, 40, 88, 47, 89, 80, 54, 36, 21, 84, 50, 50, 21, 75, 76,\n",
       "       52, 22, 49, 62, 57, 89, 57, 77, 21, 83, 46, 24, 89, 22, 20, 46, 52,\n",
       "       77, 23, 47, 55, 35, 72, 52, 30, 39, 80, 63, 60, 36, 23, 48, 88, 37,\n",
       "       39, 40, 22, 87, 47, 65, 53, 77, 71, 87, 28, 39, 53, 55, 18, 66, 75,\n",
       "       71, 55, 32, 84, 63, 50, 59, 32, 67, 33, 79, 45, 31, 74, 67, 43, 54,\n",
       "       61, 65, 27, 40, 47, 76, 66, 64, 63, 26, 67, 78, 51, 36, 55, 64, 80,\n",
       "       34, 38, 23, 32, 72, 44, 49, 85, 36, 63, 71, 43, 37, 45, 58, 83, 27,\n",
       "       37, 67, 48, 18, 83, 40, 20, 61, 40, 83, 40, 76, 41, 49, 89, 47, 60,\n",
       "       78, 82, 47, 62, 56, 34, 27, 60, 35, 81, 66, 57, 44, 25, 34, 82, 62,\n",
       "       36, 32, 75, 79, 24, 53, 66, 75, 61, 62, 51, 44, 67, 62, 76, 61, 83,\n",
       "       22, 66, 33, 33, 20, 20, 67, 36, 53, 53, 70, 60, 21, 42, 66, 41, 69,\n",
       "       87, 27, 77, 40, 70, 55, 35, 87, 23, 51, 89, 53, 38, 18, 51, 44, 21,\n",
       "       28, 56, 55, 60, 20, 42, 88, 75, 35, 63, 44, 37, 28, 50, 36, 25, 62,\n",
       "       58, 52, 65, 85, 21, 67, 18, 23, 19, 56, 74, 42, 20, 34, 32, 50, 74,\n",
       "       67, 63, 66, 84, 29, 29, 50])"
      ]
     },
     "execution_count": 18,
     "metadata": {},
     "output_type": "execute_result"
    }
   ],
   "source": [
    "ages = np.random.randint(18, high=90, size=500)\n",
    "ages"
   ]
  },
  {
   "cell_type": "code",
   "execution_count": 19,
   "metadata": {},
   "outputs": [
    {
     "data": {
      "text/plain": [
       "ModeResult(mode=array([75]), count=array([12]))"
      ]
     },
     "execution_count": 19,
     "metadata": {},
     "output_type": "execute_result"
    }
   ],
   "source": [
    "from scipy import stats\n",
    "stats.mode(ages)"
   ]
  }
 ],
 "metadata": {
  "kernelspec": {
   "display_name": "Python 3",
   "language": "python",
   "name": "python3"
  },
  "language_info": {
   "codemirror_mode": {
    "name": "ipython",
    "version": 3
   },
   "file_extension": ".py",
   "mimetype": "text/x-python",
   "name": "python",
   "nbconvert_exporter": "python",
   "pygments_lexer": "ipython3",
   "version": "3.7.3"
  }
 },
 "nbformat": 4,
 "nbformat_minor": 1
}
