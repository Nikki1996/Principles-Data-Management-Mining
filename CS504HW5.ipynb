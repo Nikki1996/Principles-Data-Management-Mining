{
 "cells": [
  {
   "cell_type": "markdown",
   "metadata": {},
   "source": [
    "# Option 2 Python Homework 5\n",
    "## Mammographic Dataset"
   ]
  },
  {
   "cell_type": "markdown",
   "metadata": {},
   "source": [
    "This data contains 961 instances of masses detected in mammograms, and contains the following\n",
    "attributes:\n",
    "1. BI-RADS assessment: 1 to 5 (ordinal)\n",
    "2. Age: patient's age in years (integer)\n",
    "3. Shape: mass shape: round=1 oval=2 lobular=3 irregular=4 (nominal)\n",
    "4. Margin: mass margin: circumscribed=1 microlobulated=2 obscured=3 ill-defined=4 spiculated=5 (nominal)\n",
    "5. Density: mass density high=1 iso=2 low=3 fat-containing=4 (ordinal)\n",
    "6. Severity: benign=No or malignant=Yes (binary)\n",
    "\n",
    "BI-RADS is an assessment of how confident the severity classification is; it is not a \"predictive\"\n",
    "attribute and so we will discard it. The age, shape, margin, and density attributes are the features\n",
    "that we will build our model with, and \"severity\" is the classification we will attempt to predict\n",
    "based on those attributes.\n",
    "Although \"shape\" and \"margin\" are nominal data types, which sklearn typically doesn't deal with\n",
    "well, they are close enough to ordinal that we shouldn't just discard them. The \"shape\" for\n",
    "example is ordered increasingly from round to irregular."
   ]
  },
  {
   "cell_type": "markdown",
   "metadata": {},
   "source": [
    "Importing required libraries\n",
    "since BI-RADS is not a \"predictive\" attribute and so we will discard it."
   ]
  },
  {
   "cell_type": "code",
   "execution_count": 1,
   "metadata": {},
   "outputs": [
    {
     "data": {
      "text/html": [
       "<div>\n",
       "<style scoped>\n",
       "    .dataframe tbody tr th:only-of-type {\n",
       "        vertical-align: middle;\n",
       "    }\n",
       "\n",
       "    .dataframe tbody tr th {\n",
       "        vertical-align: top;\n",
       "    }\n",
       "\n",
       "    .dataframe thead th {\n",
       "        text-align: right;\n",
       "    }\n",
       "</style>\n",
       "<table border=\"1\" class=\"dataframe\">\n",
       "  <thead>\n",
       "    <tr style=\"text-align: right;\">\n",
       "      <th></th>\n",
       "      <th>Age</th>\n",
       "      <th>Shape</th>\n",
       "      <th>Margin</th>\n",
       "      <th>Density</th>\n",
       "      <th>Severity</th>\n",
       "    </tr>\n",
       "  </thead>\n",
       "  <tbody>\n",
       "    <tr>\n",
       "      <th>0</th>\n",
       "      <td>67</td>\n",
       "      <td>3</td>\n",
       "      <td>5</td>\n",
       "      <td>3</td>\n",
       "      <td>yes</td>\n",
       "    </tr>\n",
       "    <tr>\n",
       "      <th>1</th>\n",
       "      <td>43</td>\n",
       "      <td>1</td>\n",
       "      <td>1</td>\n",
       "      <td>?</td>\n",
       "      <td>yes</td>\n",
       "    </tr>\n",
       "    <tr>\n",
       "      <th>2</th>\n",
       "      <td>58</td>\n",
       "      <td>4</td>\n",
       "      <td>5</td>\n",
       "      <td>3</td>\n",
       "      <td>yes</td>\n",
       "    </tr>\n",
       "    <tr>\n",
       "      <th>3</th>\n",
       "      <td>28</td>\n",
       "      <td>1</td>\n",
       "      <td>1</td>\n",
       "      <td>3</td>\n",
       "      <td>no</td>\n",
       "    </tr>\n",
       "    <tr>\n",
       "      <th>4</th>\n",
       "      <td>74</td>\n",
       "      <td>1</td>\n",
       "      <td>5</td>\n",
       "      <td>?</td>\n",
       "      <td>yes</td>\n",
       "    </tr>\n",
       "  </tbody>\n",
       "</table>\n",
       "</div>"
      ],
      "text/plain": [
       "  Age Shape Margin Density Severity\n",
       "0  67     3      5       3      yes\n",
       "1  43     1      1       ?      yes\n",
       "2  58     4      5       3      yes\n",
       "3  28     1      1       3       no\n",
       "4  74     1      5       ?      yes"
      ]
     },
     "execution_count": 1,
     "metadata": {},
     "output_type": "execute_result"
    }
   ],
   "source": [
    "import numpy as np\n",
    "import pandas as pd\n",
    "from sklearn import tree\n",
    "from sklearn import model_selection\n",
    "from sklearn.naive_bayes import MultinomialNB\n",
    "from sklearn.preprocessing import MinMaxScaler\n",
    "from sklearn import metrics\n",
    "from sklearn.preprocessing import StandardScaler\n",
    "from sklearn.neighbors import KNeighborsClassifier  \n",
    "data = pd.read_csv(\"mammographic.csv\",names=['BI-RADS','Age','Shape','Margin','Density','Severity'],usecols = ['Age','Shape','Margin','Density','Severity']) \n",
    "data.head()"
   ]
  },
  {
   "cell_type": "markdown",
   "metadata": {},
   "source": [
    "#### Converting Field Severity to numerical Data"
   ]
  },
  {
   "cell_type": "code",
   "execution_count": 2,
   "metadata": {},
   "outputs": [
    {
     "data": {
      "text/html": [
       "<div>\n",
       "<style scoped>\n",
       "    .dataframe tbody tr th:only-of-type {\n",
       "        vertical-align: middle;\n",
       "    }\n",
       "\n",
       "    .dataframe tbody tr th {\n",
       "        vertical-align: top;\n",
       "    }\n",
       "\n",
       "    .dataframe thead th {\n",
       "        text-align: right;\n",
       "    }\n",
       "</style>\n",
       "<table border=\"1\" class=\"dataframe\">\n",
       "  <thead>\n",
       "    <tr style=\"text-align: right;\">\n",
       "      <th></th>\n",
       "      <th>Age</th>\n",
       "      <th>Shape</th>\n",
       "      <th>Margin</th>\n",
       "      <th>Density</th>\n",
       "      <th>Severity</th>\n",
       "    </tr>\n",
       "  </thead>\n",
       "  <tbody>\n",
       "    <tr>\n",
       "      <th>0</th>\n",
       "      <td>67</td>\n",
       "      <td>3</td>\n",
       "      <td>5</td>\n",
       "      <td>3</td>\n",
       "      <td>1</td>\n",
       "    </tr>\n",
       "    <tr>\n",
       "      <th>1</th>\n",
       "      <td>43</td>\n",
       "      <td>1</td>\n",
       "      <td>1</td>\n",
       "      <td>?</td>\n",
       "      <td>1</td>\n",
       "    </tr>\n",
       "    <tr>\n",
       "      <th>2</th>\n",
       "      <td>58</td>\n",
       "      <td>4</td>\n",
       "      <td>5</td>\n",
       "      <td>3</td>\n",
       "      <td>1</td>\n",
       "    </tr>\n",
       "    <tr>\n",
       "      <th>3</th>\n",
       "      <td>28</td>\n",
       "      <td>1</td>\n",
       "      <td>1</td>\n",
       "      <td>3</td>\n",
       "      <td>0</td>\n",
       "    </tr>\n",
       "    <tr>\n",
       "      <th>4</th>\n",
       "      <td>74</td>\n",
       "      <td>1</td>\n",
       "      <td>5</td>\n",
       "      <td>?</td>\n",
       "      <td>1</td>\n",
       "    </tr>\n",
       "  </tbody>\n",
       "</table>\n",
       "</div>"
      ],
      "text/plain": [
       "  Age Shape Margin Density  Severity\n",
       "0  67     3      5       3         1\n",
       "1  43     1      1       ?         1\n",
       "2  58     4      5       3         1\n",
       "3  28     1      1       3         0\n",
       "4  74     1      5       ?         1"
      ]
     },
     "execution_count": 2,
     "metadata": {},
     "output_type": "execute_result"
    }
   ],
   "source": [
    "def severity_to_numeric(x):\n",
    "    if x=='yes':\n",
    "        return 1\n",
    "    if x=='no':\n",
    "        return 0\n",
    "data['Severity'] = data['Severity'].apply(severity_to_numeric)\n",
    "data.head()"
   ]
  },
  {
   "cell_type": "markdown",
   "metadata": {},
   "source": [
    "#### Converting \"?\" to NaN from NumPy library"
   ]
  },
  {
   "cell_type": "markdown",
   "metadata": {},
   "source": [
    "The data needs to be cleaned: many rows contain missing data. Some column needs to be\n",
    "transformed to numerical data. Techniques such as KNN also require the input data to be\n",
    "normalized first. (Hint: use preprocessing.StandardScaler()). Show your data after being\n",
    "preprocessed. If none of the techniques described below is able to achieve around 80% accuracy,\n",
    "exam your data again to see if there is anything that you can improve.\n",
    "\n",
    "Apply the following supervised learning techniques to your preprocessed data set, and see which\n",
    "one yields the highest accuracy as measured with K-Fold cross validation (K=10)."
   ]
  },
  {
   "cell_type": "code",
   "execution_count": 3,
   "metadata": {
    "scrolled": false
   },
   "outputs": [
    {
     "data": {
      "text/html": [
       "<div>\n",
       "<style scoped>\n",
       "    .dataframe tbody tr th:only-of-type {\n",
       "        vertical-align: middle;\n",
       "    }\n",
       "\n",
       "    .dataframe tbody tr th {\n",
       "        vertical-align: top;\n",
       "    }\n",
       "\n",
       "    .dataframe thead th {\n",
       "        text-align: right;\n",
       "    }\n",
       "</style>\n",
       "<table border=\"1\" class=\"dataframe\">\n",
       "  <thead>\n",
       "    <tr style=\"text-align: right;\">\n",
       "      <th></th>\n",
       "      <th>Age</th>\n",
       "      <th>Shape</th>\n",
       "      <th>Margin</th>\n",
       "      <th>Density</th>\n",
       "      <th>Severity</th>\n",
       "    </tr>\n",
       "  </thead>\n",
       "  <tbody>\n",
       "    <tr>\n",
       "      <th>0</th>\n",
       "      <td>67</td>\n",
       "      <td>3</td>\n",
       "      <td>5</td>\n",
       "      <td>3</td>\n",
       "      <td>1</td>\n",
       "    </tr>\n",
       "    <tr>\n",
       "      <th>1</th>\n",
       "      <td>43</td>\n",
       "      <td>1</td>\n",
       "      <td>1</td>\n",
       "      <td>NaN</td>\n",
       "      <td>1</td>\n",
       "    </tr>\n",
       "    <tr>\n",
       "      <th>2</th>\n",
       "      <td>58</td>\n",
       "      <td>4</td>\n",
       "      <td>5</td>\n",
       "      <td>3</td>\n",
       "      <td>1</td>\n",
       "    </tr>\n",
       "    <tr>\n",
       "      <th>3</th>\n",
       "      <td>28</td>\n",
       "      <td>1</td>\n",
       "      <td>1</td>\n",
       "      <td>3</td>\n",
       "      <td>0</td>\n",
       "    </tr>\n",
       "    <tr>\n",
       "      <th>4</th>\n",
       "      <td>74</td>\n",
       "      <td>1</td>\n",
       "      <td>5</td>\n",
       "      <td>NaN</td>\n",
       "      <td>1</td>\n",
       "    </tr>\n",
       "  </tbody>\n",
       "</table>\n",
       "</div>"
      ],
      "text/plain": [
       "  Age Shape Margin Density  Severity\n",
       "0  67     3      5       3         1\n",
       "1  43     1      1     NaN         1\n",
       "2  58     4      5       3         1\n",
       "3  28     1      1       3         0\n",
       "4  74     1      5     NaN         1"
      ]
     },
     "execution_count": 3,
     "metadata": {},
     "output_type": "execute_result"
    }
   ],
   "source": [
    "data1 = data.replace(\"?\",np.nan)\n",
    "data1.head()"
   ]
  },
  {
   "cell_type": "markdown",
   "metadata": {},
   "source": [
    "#### Dropping all the rows containing NaN in them"
   ]
  },
  {
   "cell_type": "code",
   "execution_count": 4,
   "metadata": {},
   "outputs": [
    {
     "name": "stdout",
     "output_type": "stream",
     "text": [
      "   Age Shape Margin Density  Severity\n",
      "0   67     3      5       3         1\n",
      "2   58     4      5       3         1\n",
      "3   28     1      1       3         0\n",
      "8   57     1      5       3         1\n",
      "10  76     1      4       3         1\n"
     ]
    }
   ],
   "source": [
    "dataA = data1.dropna()\n",
    "print(dataA.head())"
   ]
  },
  {
   "cell_type": "markdown",
   "metadata": {},
   "source": [
    "#### Dividing input features and target variable "
   ]
  },
  {
   "cell_type": "markdown",
   "metadata": {},
   "source": [
    "#### Standardizing features by removing the mean and scaling to unit variance "
   ]
  },
  {
   "cell_type": "code",
   "execution_count": 5,
   "metadata": {
    "scrolled": true
   },
   "outputs": [
    {
     "name": "stdout",
     "output_type": "stream",
     "text": [
      "[['67' '3' '5' '3']\n",
      " ['58' '4' '5' '3']\n",
      " ['28' '1' '1' '3']\n",
      " ...\n",
      " ['64' '4' '5' '3']\n",
      " ['66' '4' '5' '3']\n",
      " ['62' '3' '3' '3']]\n",
      "[1 1 0 1 1 1 0 0 0 0 1 1 1 1 1 1 1 0 0 1 1 0 0 0 1 0 0 0 1 1 1 0 1 0 1 1 0\n",
      " 1 0 0 0 0 1 0 1 0 1 0 1 0 0 1 1 1 1 1 1 1 1 0 0 0 0 1 0 0 0 1 0 1 0 0 0 0\n",
      " 1 1 1 0 1 1 1 1 0 1 1 0 0 1 1 1 0 1 1 0 0 0 0 1 0 0 0 1 1 0 1 1 0 0 0 0 1\n",
      " 0 0 1 0 0 0 0 1 1 1 1 0 1 0 1 0 1 0 1 0 0 0 0 1 0 0 1 0 1 0 0 0 1 1 0 0 0\n",
      " 0 0 0 1 1 1 0 1 0 0 0 1 1 0 1 0 0 1 0 1 0 0 0 1 0 0 1 0 0 0 1 0 1 1 1 1 1\n",
      " 1 1 0 0 1 0 1 0 1 1 1 1 1 0 1 0 1 0 1 0 0 1 1 0 0 1 0 1 0 1 1 0 1 0 1 1 1\n",
      " 0 0 0 0 0 0 0 0 1 1 1 1 0 0 0 0 1 1 1 0 1 0 0 0 0 1 1 1 0 1 1 0 1 1 1 1 1\n",
      " 1 0 0 0 1 0 1 0 0 1 0 0 1 0 0 1 1 1 1 0 1 0 0 0 1 1 1 1 0 1 0 1 0 1 0 1 1\n",
      " 0 0 1 0 1 1 0 0 1 1 0 0 1 0 1 0 1 1 1 1 0 0 1 0 1 0 1 1 1 0 1 1 1 1 0 0 1\n",
      " 0 1 0 1 1 0 1 0 1 1 1 1 1 0 1 1 1 0 1 1 0 0 1 1 1 0 0 0 1 1 1 0 1 0 0 1 1\n",
      " 0 1 0 1 0 0 0 0 0 1 0 1 0 0 0 0 0 0 1 1 0 1 1 1 1 1 0 0 1 0 0 0 0 0 1 1 1\n",
      " 1 0 0 1 1 1 0 0 1 0 1 0 0 1 1 1 0 1 0 0 0 0 1 0 1 0 0 0 1 1 0 0 1 1 1 1 0\n",
      " 0 0 0 0 1 0 1 1 0 0 1 1 0 0 0 0 0 0 0 1 0 0 1 0 0 0 1 0 0 0 0 1 1 0 1 1 0\n",
      " 0 0 1 0 1 1 0 1 1 1 0 1 1 0 0 1 1 1 0 1 0 1 0 1 0 0 0 0 1 1 0 1 0 0 0 0 0\n",
      " 1 0 1 0 0 0 1 1 0 1 0 0 0 1 0 0 1 0 1 0 1 0 1 1 0 0 1 1 1 0 0 1 0 1 1 1 1\n",
      " 1 1 1 1 0 0 0 0 1 1 1 1 1 1 0 1 1 0 0 0 1 0 1 1 1 0 1 0 1 0 0 1 0 0 0 1 1\n",
      " 0 0 0 1 1 0 0 0 1 1 0 1 1 0 0 1 1 0 0 0 0 0 1 0 0 0 0 0 0 0 1 0 1 0 0 0 1\n",
      " 0 0 1 1 1 1 0 1 1 1 0 1 1 0 0 1 0 0 1 0 1 0 0 0 0 0 0 1 1 0 1 0 1 1 0 0 1\n",
      " 1 0 0 1 1 1 0 1 1 1 0 0 0 1 1 0 1 0 1 1 1 0 1 0 0 0 0 1 0 0 1 0 1 1 0 1 1\n",
      " 0 1 1 0 1 0 1 0 0 0 0 1 0 0 0 0 0 1 0 0 1 0 0 1 0 1 0 1 1 1 1 1 1 1 0 1 0\n",
      " 0 0 1 0 1 1 0 0 0 0 1 0 1 1 0 1 1 0 1 1 1 1 1 1 0 0 1 0 1 0 1 1 1 0 1 1 0\n",
      " 0 1 1 0 1 0 1 0 1 0 0 1 0 0 0 1 0 1 0 1 0 1 0 0 1 0 0 0 1 0 0 0 0 1 0 1 0\n",
      " 1 0 0 0 1 0 1 1 1 0 0 1 0 1 0 1 0]\n",
      "[[ 0.76580356  0.17445989  1.39563127  0.24031298]\n",
      " [ 0.15166622  0.97988304  1.39563127  0.24031298]\n",
      " [-1.89545824 -1.43638642 -1.15892729  0.24031298]\n",
      " ...\n",
      " [ 0.56109111  0.97988304  1.39563127  0.24031298]\n",
      " [ 0.69756608  0.97988304  1.39563127  0.24031298]\n",
      " [ 0.42461615  0.17445989  0.11835199  0.24031298]]\n"
     ]
    }
   ],
   "source": [
    "fields = list(dataA.columns[0:4])\n",
    "factors = dataA[fields].values\n",
    "print(factors)\n",
    "severity = list(dataA.columns[4:5])\n",
    "targetVariable = dataA[severity].values\n",
    "targetVariable = targetVariable.ravel()\n",
    "print(targetVariable)\n",
    "scaler  = StandardScaler()\n",
    "factors = scaler.fit_transform(factors)\n",
    "print(factors)"
   ]
  },
  {
   "cell_type": "markdown",
   "metadata": {},
   "source": [
    "#### Train data and Test data split with 3:1 ratio "
   ]
  },
  {
   "cell_type": "code",
   "execution_count": 6,
   "metadata": {},
   "outputs": [],
   "source": [
    "trainX, testX, trainY, testY = model_selection.train_test_split(factors,targetVariable, test_size=0.25, random_state=1)"
   ]
  },
  {
   "cell_type": "markdown",
   "metadata": {},
   "source": [
    "#### Decision Tree implementation"
   ]
  },
  {
   "cell_type": "markdown",
   "metadata": {},
   "source": [
    "• Create a single train/test split of your data. Set aside 75% for training, and 25% for\n",
    "testing. Create a DecisionTreeClassifier and fit it to your training data. Measure the\n",
    "accuracy of the resulting decision tree model using your test data. (Hint: you don’t have\n",
    "to visualize the tree and use score method to get the accuracy.)"
   ]
  },
  {
   "cell_type": "code",
   "execution_count": 7,
   "metadata": {},
   "outputs": [
    {
     "name": "stdout",
     "output_type": "stream",
     "text": [
      "Score:- 0.7211538461538461\n"
     ]
    },
    {
     "name": "stderr",
     "output_type": "stream",
     "text": [
      "C:\\Users\\lingu\\anaconda3\\lib\\site-packages\\sklearn\\tree\\_classes.py:319: FutureWarning: The parameter 'presort' is deprecated and has no effect. It will be removed in v0.24. You can suppress this warning by not passing any value to the 'presort' parameter.\n",
      "  FutureWarning)\n"
     ]
    }
   ],
   "source": [
    "#DECISION TREE\n",
    "from sklearn import tree\n",
    "decTree = tree.DecisionTreeClassifier(criterion='entropy', splitter='best', max_depth=None, min_samples_split=2, min_samples_leaf=1, min_weight_fraction_leaf=0.0, max_features=None, random_state=None, max_leaf_nodes=None, min_impurity_decrease=0.0, min_impurity_split=None, class_weight=None, presort=False)\n",
    "decTree1 = decTree.fit(trainX,trainY)\n",
    "predY = decTree1.predict(testX)\n",
    "decTreeScore = metrics.accuracy_score(testY, predY)\n",
    "print(\"Score:-\",decTreeScore)"
   ]
  },
  {
   "cell_type": "markdown",
   "metadata": {},
   "source": [
    "#### Decision Tree implementation with K-Fold CV = 10"
   ]
  },
  {
   "cell_type": "markdown",
   "metadata": {},
   "source": [
    "• Use K-Fold cross validation to get a measure of your model’s accuracy (K=10). (Hint:\n",
    "use model_selection.cross_val_score)"
   ]
  },
  {
   "cell_type": "code",
   "execution_count": 8,
   "metadata": {},
   "outputs": [
    {
     "name": "stdout",
     "output_type": "stream",
     "text": [
      "[0.67857143 0.77108434 0.71084337 0.75903614 0.77108434 0.69879518\n",
      " 0.72289157 0.77108434 0.77108434 0.71084337]\n",
      "Average Score after CV:- 0.7365318416523235\n"
     ]
    },
    {
     "name": "stderr",
     "output_type": "stream",
     "text": [
      "C:\\Users\\lingu\\anaconda3\\lib\\site-packages\\sklearn\\tree\\_classes.py:319: FutureWarning: The parameter 'presort' is deprecated and has no effect. It will be removed in v0.24. You can suppress this warning by not passing any value to the 'presort' parameter.\n",
      "  FutureWarning)\n",
      "C:\\Users\\lingu\\anaconda3\\lib\\site-packages\\sklearn\\tree\\_classes.py:319: FutureWarning: The parameter 'presort' is deprecated and has no effect. It will be removed in v0.24. You can suppress this warning by not passing any value to the 'presort' parameter.\n",
      "  FutureWarning)\n",
      "C:\\Users\\lingu\\anaconda3\\lib\\site-packages\\sklearn\\tree\\_classes.py:319: FutureWarning: The parameter 'presort' is deprecated and has no effect. It will be removed in v0.24. You can suppress this warning by not passing any value to the 'presort' parameter.\n",
      "  FutureWarning)\n",
      "C:\\Users\\lingu\\anaconda3\\lib\\site-packages\\sklearn\\tree\\_classes.py:319: FutureWarning: The parameter 'presort' is deprecated and has no effect. It will be removed in v0.24. You can suppress this warning by not passing any value to the 'presort' parameter.\n",
      "  FutureWarning)\n",
      "C:\\Users\\lingu\\anaconda3\\lib\\site-packages\\sklearn\\tree\\_classes.py:319: FutureWarning: The parameter 'presort' is deprecated and has no effect. It will be removed in v0.24. You can suppress this warning by not passing any value to the 'presort' parameter.\n",
      "  FutureWarning)\n",
      "C:\\Users\\lingu\\anaconda3\\lib\\site-packages\\sklearn\\tree\\_classes.py:319: FutureWarning: The parameter 'presort' is deprecated and has no effect. It will be removed in v0.24. You can suppress this warning by not passing any value to the 'presort' parameter.\n",
      "  FutureWarning)\n",
      "C:\\Users\\lingu\\anaconda3\\lib\\site-packages\\sklearn\\tree\\_classes.py:319: FutureWarning: The parameter 'presort' is deprecated and has no effect. It will be removed in v0.24. You can suppress this warning by not passing any value to the 'presort' parameter.\n",
      "  FutureWarning)\n",
      "C:\\Users\\lingu\\anaconda3\\lib\\site-packages\\sklearn\\tree\\_classes.py:319: FutureWarning: The parameter 'presort' is deprecated and has no effect. It will be removed in v0.24. You can suppress this warning by not passing any value to the 'presort' parameter.\n",
      "  FutureWarning)\n",
      "C:\\Users\\lingu\\anaconda3\\lib\\site-packages\\sklearn\\tree\\_classes.py:319: FutureWarning: The parameter 'presort' is deprecated and has no effect. It will be removed in v0.24. You can suppress this warning by not passing any value to the 'presort' parameter.\n",
      "  FutureWarning)\n",
      "C:\\Users\\lingu\\anaconda3\\lib\\site-packages\\sklearn\\tree\\_classes.py:319: FutureWarning: The parameter 'presort' is deprecated and has no effect. It will be removed in v0.24. You can suppress this warning by not passing any value to the 'presort' parameter.\n",
      "  FutureWarning)\n"
     ]
    }
   ],
   "source": [
    "from sklearn import model_selection\n",
    "DecTree_scores = model_selection.cross_val_score(decTree1,factors,targetVariable,cv=10)\n",
    "print(DecTree_scores)\n",
    "print(\"Average Score after CV:-\",DecTree_scores.mean())"
   ]
  },
  {
   "cell_type": "markdown",
   "metadata": {},
   "source": [
    "#### Random Forest implementation"
   ]
  },
  {
   "cell_type": "markdown",
   "metadata": {},
   "source": [
    "• Create a RandomForestClassifier using n_estimators=10 and use K-Fold cross validation\n",
    "to get a measure of the accuracy (K=10)."
   ]
  },
  {
   "cell_type": "code",
   "execution_count": 9,
   "metadata": {},
   "outputs": [
    {
     "data": {
      "text/plain": [
       "0.7067307692307693"
      ]
     },
     "execution_count": 9,
     "metadata": {},
     "output_type": "execute_result"
    }
   ],
   "source": [
    "#RANDOM FOREST\n",
    "from sklearn.ensemble import RandomForestClassifier\n",
    "RanFor = RandomForestClassifier(n_estimators=10)\n",
    "RanFor1= RanFor.fit(trainX,trainY)\n",
    "predY = RanFor1.predict(testX)\n",
    "metrics.accuracy_score(testY, predY)"
   ]
  },
  {
   "cell_type": "markdown",
   "metadata": {},
   "source": [
    "#### Random Forest implementation with K-Fold CV = 10"
   ]
  },
  {
   "cell_type": "code",
   "execution_count": 10,
   "metadata": {},
   "outputs": [
    {
     "name": "stdout",
     "output_type": "stream",
     "text": [
      "[0.69047619 0.77108434 0.78313253 0.74698795 0.79518072 0.6746988\n",
      " 0.77108434 0.77108434 0.71084337 0.6746988 ]\n",
      "0.7389271371199081\n"
     ]
    }
   ],
   "source": [
    "from sklearn import model_selection\n",
    "RanFor_scores = model_selection.cross_val_score(RanFor1,factors,targetVariable,cv=10)\n",
    "print(RanFor_scores)\n",
    "print(RanFor_scores.mean())"
   ]
  },
  {
   "cell_type": "markdown",
   "metadata": {},
   "source": [
    "#### K Nearest Neighbor Classifier implementation"
   ]
  },
  {
   "cell_type": "markdown",
   "metadata": {},
   "source": [
    "• Create a neighbors.KNeighborsClassifier and use K-Fold cross validation to get a\n",
    "measure of the accuracy (K=10)."
   ]
  },
  {
   "cell_type": "code",
   "execution_count": 11,
   "metadata": {},
   "outputs": [
    {
     "name": "stdout",
     "output_type": "stream",
     "text": [
      "0.8040706605222734\n"
     ]
    }
   ],
   "source": [
    "# KNN \n",
    "KNN = KNeighborsClassifier(n_neighbors=10)  \n",
    "KNN1 = KNN.fit(trainX, trainY)\n",
    "KNN_scores = model_selection.cross_val_score(KNN1, trainX, trainY, cv=10, scoring='accuracy')\n",
    "print(KNN_scores.mean())"
   ]
  },
  {
   "cell_type": "markdown",
   "metadata": {},
   "source": [
    "#### K Nearest Neighbor Classifier implementation with neighbors ranging from 1 to 50"
   ]
  },
  {
   "cell_type": "markdown",
   "metadata": {},
   "source": [
    "• Try different values of K. Write a for loop to run KNN with K values ranging from 1 to\n",
    "50 and see if K makes a substantial difference. Make a note of the best performance you\n",
    "could get out of KNN. "
   ]
  },
  {
   "cell_type": "code",
   "execution_count": 12,
   "metadata": {},
   "outputs": [
    {
     "name": "stdout",
     "output_type": "stream",
     "text": [
      "0.8041218637992833\n"
     ]
    }
   ],
   "source": [
    "KNN_scores = []\n",
    "CV_scores = []\n",
    "for i in range(1, 50):\n",
    "    knn = KNeighborsClassifier(n_neighbors=i)\n",
    "    KNN_scores = model_selection.cross_val_score(knn, trainX, trainY, cv=10, scoring='accuracy')\n",
    "    CV_scores.append(KNN_scores.mean())\n",
    "print(max(CV_scores))"
   ]
  },
  {
   "cell_type": "markdown",
   "metadata": {},
   "source": [
    "#### Extracting maximum value and n_neighbors where max accuracy is obtained"
   ]
  },
  {
   "cell_type": "code",
   "execution_count": 13,
   "metadata": {},
   "outputs": [
    {
     "name": "stdout",
     "output_type": "stream",
     "text": [
      "At K = 9  KNN gives maximum accuracy of 80.41218637992833 percent\n"
     ]
    }
   ],
   "source": [
    "A = max(CV_scores)\n",
    "for i in range(0, 49): \n",
    "    if CV_scores[i] == A:\n",
    "        print(\"At K =\",i+1,\" KNN gives maximum accuracy of\",CV_scores[i]*100,\"percent\")"
   ]
  },
  {
   "cell_type": "markdown",
   "metadata": {},
   "source": [
    "#### Naive Bayes implementation"
   ]
  },
  {
   "cell_type": "markdown",
   "metadata": {},
   "source": [
    "• Create a naive_bayes.MultinomailNB and use K-Fold cross validation to get a measure of\n",
    "the accuracy (K=10)."
   ]
  },
  {
   "cell_type": "code",
   "execution_count": 18,
   "metadata": {},
   "outputs": [
    {
     "data": {
      "text/plain": [
       "0.7884615384615384"
      ]
     },
     "execution_count": 18,
     "metadata": {},
     "output_type": "execute_result"
    }
   ],
   "source": [
    "#Naive Bayes\n",
    "NB_scaler = MinMaxScaler()\n",
    "factors = NB_scaler.fit_transform(factors)\n",
    "trainX1, testX1, trainY1, testY1 = model_selection.train_test_split(factors,targetVariable, test_size=0.25, random_state=0)\n",
    "#NB = MultinomialNB()\n",
    "NB = MultinomialNB().fit(trainX1,trainY1)\n",
    "predY = NB.predict(testX1)\n",
    "NB.score(testX1,testY1)\n",
    "metrics.accuracy_score(testY1, predY)"
   ]
  },
  {
   "cell_type": "markdown",
   "metadata": {},
   "source": [
    "#### Naive Bayes implementation with K-Fold CV = 10"
   ]
  },
  {
   "cell_type": "code",
   "execution_count": 19,
   "metadata": {},
   "outputs": [
    {
     "name": "stdout",
     "output_type": "stream",
     "text": [
      "[0.73809524 0.77108434 0.79518072 0.8313253  0.8313253  0.77108434\n",
      " 0.71084337 0.75903614 0.89156627 0.71084337]\n",
      "0.7810384394721744\n"
     ]
    }
   ],
   "source": [
    "NB_scores = model_selection.cross_val_score(NB,factors,targetVariable,cv=10)\n",
    "print(NB_scores)\n",
    "print(NB_scores.mean())"
   ]
  },
  {
   "cell_type": "markdown",
   "metadata": {},
   "source": [
    "|  MODEL | Decision Tree | Random Forest  |      KNN        | Naive Bayes |\n",
    "|--------|---------------|----------------|-----------------|-------------|\n",
    "| W/O CV |   76.4%       |     77.4%      |   76.7% - CV    |     78.8%   |\n",
    "|   CV   |   73.4%       |     73.8%      |79.6% - variableN|     78.2%   |"
   ]
  }
 ],
 "metadata": {
  "kernelspec": {
   "display_name": "Python 3",
   "language": "python",
   "name": "python3"
  },
  "language_info": {
   "codemirror_mode": {
    "name": "ipython",
    "version": 3
   },
   "file_extension": ".py",
   "mimetype": "text/x-python",
   "name": "python",
   "nbconvert_exporter": "python",
   "pygments_lexer": "ipython3",
   "version": "3.7.6"
  }
 },
 "nbformat": 4,
 "nbformat_minor": 2
}
