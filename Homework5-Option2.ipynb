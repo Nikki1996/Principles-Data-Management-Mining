{
 "cells": [
  {
   "cell_type": "markdown",
   "metadata": {},
   "source": [
    "## Sruthi Pusuluri G01149012\n",
    "# Mammographic dataset\n",
    "This data contains 961 instances of masses detected in mammograms, and contains the following attributes:\n",
    "1. BI-RADS assessment: 1 to 5 (ordinal)\n",
    "2. Age: patient's age in years (integer)\n",
    "3. Shape: mass shape: round=1 oval=2 lobular=3 irregular=4 (nominal)\n",
    "4. Margin: mass margin: circumscribed=1 microlobulated=2 obscured=3 ill-defined=4 spiculated=5 (nominal)\n",
    "5. Density: mass density high=1 iso=2 low=3 fat-containing=4 (ordinal)\n",
    "6. Severity: benign=No or malignant=Yes (binary)\n",
    "\n",
    "BI-RADS is an assessment of how confident the severity classification is; it is not a \"predictive\" attribute and so we will discard it. The age, shape, margin, and density attributes are the features that we will build our model with, and \"severity\" is the classification we will attempt to predict based on those attributes.\n",
    "\n",
    "Although \"shape\" and \"margin\" are nominal data types, which sklearn typically doesn't deal with well, they are close enough to ordinal that we shouldn't just discard them. The \"shape\" for example is ordered increasingly from round to irregular.\n",
    "\n",
    "The data needs to be cleaned: many rows contain missing data. Some column needs to be transformed to numerical data. Techniques such as KNN also require the input data to be normalized first. (Hint: use preprocessing.StandardScaler()). Show your data after being preprocessed. If none of the techniques described below is able to achieve around 80% accuracy, exam your data again to see if there is anything that you can improve.\n",
    "\n",
    "Apply the following supervised learning techniques to your preprocessed data set, and see which one yields the highest accuracy as measured with K-Fold cross validation (K=10).\n"
   ]
  },
  {
   "cell_type": "code",
   "execution_count": 3,
   "metadata": {},
   "outputs": [],
   "source": [
    "import pandas as pd\n",
    "from pandas import read_csv\n",
    "from sklearn.preprocessing import StandardScaler\n",
    "import numpy as np\n",
    "from sklearn.tree import DecisionTreeClassifier # Import Decision Tree Classifier\n",
    "from sklearn.model_selection import train_test_split # Import train_test_split function\n",
    "from sklearn import metrics #Import scikit-learn metrics module for accuracy calculation\n",
    "from sklearn.ensemble import RandomForestClassifier\n",
    "from sklearn.model_selection import cross_val_score\n",
    "from sklearn.neighbors import KNeighborsClassifier\n",
    "from sklearn.naive_bayes import MultinomialNB"
   ]
  },
  {
   "cell_type": "code",
   "execution_count": 4,
   "metadata": {},
   "outputs": [
    {
     "name": "stdout",
     "output_type": "stream",
     "text": [
      "  assessment age shape margin density severity\n",
      "0          5  67     3      5       3      yes\n",
      "1          4  43     1      1       ?      yes\n",
      "2          5  58     4      5       3      yes\n",
      "3          4  28     1      1       3       no\n",
      "4          5  74     1      5       ?      yes\n",
      "assessment    object\n",
      "age           object\n",
      "shape         object\n",
      "margin        object\n",
      "density       object\n",
      "severity      object\n",
      "dtype: object\n",
      "  age shape margin density severity\n",
      "0  67     3      5       3      yes\n",
      "1  43     1      1       ?      yes\n",
      "2  58     4      5       3      yes\n",
      "3  28     1      1       3       no\n",
      "4  74     1      5       ?      yes\n"
     ]
    },
    {
     "name": "stderr",
     "output_type": "stream",
     "text": [
      "C:\\Users\\lsrli\\Anaconda3\\lib\\site-packages\\pandas\\core\\frame.py:3391: SettingWithCopyWarning: \n",
      "A value is trying to be set on a copy of a slice from a DataFrame.\n",
      "Try using .loc[row_indexer,col_indexer] = value instead\n",
      "\n",
      "See the caveats in the documentation: http://pandas.pydata.org/pandas-docs/stable/indexing.html#indexing-view-versus-copy\n",
      "  self[k1] = value[k2]\n"
     ]
    }
   ],
   "source": [
    "m_cols = ['assessment', 'age', 'shape','margin','density','severity']\n",
    "mammo = pd.read_csv('mammographic.csv', sep=',', names=m_cols, usecols=range(6))\n",
    "print(mammo.head())\n",
    "print(mammo.dtypes)\n",
    "#remove BI-RADS assessment\n",
    "mammo_df = mammo[['age', 'shape','margin','density','severity']]\n",
    "print(mammo_df.head())\n",
    "# all the values are returned as objects but they are numerical values and string\n",
    "#converting them into numerics\n",
    "def coerce_cols_to_numeric(df, col_list):\n",
    "    df[col_list] = df[col_list].apply(pd.to_numeric, errors='coerce')\n",
    "#all the \"?\" will be converted to NaN by coercing them to numeric\n",
    "coerce_cols_to_numeric(mammo_df, ['age'])"
   ]
  },
  {
   "cell_type": "code",
   "execution_count": 5,
   "metadata": {},
   "outputs": [
    {
     "name": "stdout",
     "output_type": "stream",
     "text": [
      "age         float64\n",
      "shape        object\n",
      "margin       object\n",
      "density      object\n",
      "severity     object\n",
      "dtype: object\n",
      "    age shape margin density severity\n",
      "0  67.0     3      5       3      yes\n",
      "1  43.0     1      1       ?      yes\n",
      "2  58.0     4      5       3      yes\n",
      "3  28.0     1      1       3       no\n",
      "4  74.0     1      5       ?      yes\n",
      "              age\n",
      "count  956.000000\n",
      "mean    55.487448\n",
      "std     14.480131\n",
      "min     18.000000\n",
      "25%     45.000000\n",
      "50%     57.000000\n",
      "75%     66.000000\n",
      "max     96.000000\n"
     ]
    }
   ],
   "source": [
    "print(mammo_df.dtypes)\n",
    "print(mammo_df.head())\n",
    "print(mammo_df.describe())"
   ]
  },
  {
   "cell_type": "code",
   "execution_count": 6,
   "metadata": {},
   "outputs": [
    {
     "name": "stderr",
     "output_type": "stream",
     "text": [
      "C:\\Users\\lsrli\\Anaconda3\\lib\\site-packages\\pandas\\core\\generic.py:6130: SettingWithCopyWarning: \n",
      "A value is trying to be set on a copy of a slice from a DataFrame\n",
      "\n",
      "See the caveats in the documentation: http://pandas.pydata.org/pandas-docs/stable/indexing.html#indexing-view-versus-copy\n",
      "  self._update_inplace(new_data)\n"
     ]
    },
    {
     "name": "stdout",
     "output_type": "stream",
     "text": [
      "age         0\n",
      "shape       0\n",
      "margin      0\n",
      "density     0\n",
      "severity    0\n",
      "dtype: int64\n",
      "    age shape margin density severity\n",
      "0  67.0     3      5       3      yes\n",
      "1  43.0     1      1       3      yes\n",
      "2  58.0     4      5       3      yes\n",
      "3  28.0     1      1       3       no\n",
      "4  74.0     1      5       3      yes\n"
     ]
    }
   ],
   "source": [
    "mammo_df[['shape','margin','density']] = mammo_df[['shape','margin','density']].replace(\"?\", np.NaN)\n",
    "mammo_df.fillna(mammo_df.median(), inplace=True)\n",
    "print(mammo_df.isnull().sum())\n",
    "print(mammo_df.head())\n",
    "coerce_cols_to_numeric(mammo_df, ['shape','margin','density'])"
   ]
  },
  {
   "cell_type": "code",
   "execution_count": 7,
   "metadata": {},
   "outputs": [
    {
     "data": {
      "text/html": [
       "<div>\n",
       "<style scoped>\n",
       "    .dataframe tbody tr th:only-of-type {\n",
       "        vertical-align: middle;\n",
       "    }\n",
       "\n",
       "    .dataframe tbody tr th {\n",
       "        vertical-align: top;\n",
       "    }\n",
       "\n",
       "    .dataframe thead th {\n",
       "        text-align: right;\n",
       "    }\n",
       "</style>\n",
       "<table border=\"1\" class=\"dataframe\">\n",
       "  <thead>\n",
       "    <tr style=\"text-align: right;\">\n",
       "      <th></th>\n",
       "      <th>age</th>\n",
       "      <th>shape</th>\n",
       "      <th>margin</th>\n",
       "      <th>density</th>\n",
       "    </tr>\n",
       "  </thead>\n",
       "  <tbody>\n",
       "    <tr>\n",
       "      <th>0</th>\n",
       "      <td>0.796984</td>\n",
       "      <td>0.220384</td>\n",
       "      <td>1.436762</td>\n",
       "      <td>0.224804</td>\n",
       "    </tr>\n",
       "    <tr>\n",
       "      <th>1</th>\n",
       "      <td>-0.865610</td>\n",
       "      <td>-1.415052</td>\n",
       "      <td>-1.183216</td>\n",
       "      <td>0.224804</td>\n",
       "    </tr>\n",
       "    <tr>\n",
       "      <th>2</th>\n",
       "      <td>0.173511</td>\n",
       "      <td>1.038102</td>\n",
       "      <td>1.436762</td>\n",
       "      <td>0.224804</td>\n",
       "    </tr>\n",
       "    <tr>\n",
       "      <th>3</th>\n",
       "      <td>-1.904732</td>\n",
       "      <td>-1.415052</td>\n",
       "      <td>-1.183216</td>\n",
       "      <td>0.224804</td>\n",
       "    </tr>\n",
       "    <tr>\n",
       "      <th>4</th>\n",
       "      <td>1.281908</td>\n",
       "      <td>-1.415052</td>\n",
       "      <td>1.436762</td>\n",
       "      <td>0.224804</td>\n",
       "    </tr>\n",
       "  </tbody>\n",
       "</table>\n",
       "</div>"
      ],
      "text/plain": [
       "        age     shape    margin   density\n",
       "0  0.796984  0.220384  1.436762  0.224804\n",
       "1 -0.865610 -1.415052 -1.183216  0.224804\n",
       "2  0.173511  1.038102  1.436762  0.224804\n",
       "3 -1.904732 -1.415052 -1.183216  0.224804\n",
       "4  1.281908 -1.415052  1.436762  0.224804"
      ]
     },
     "execution_count": 7,
     "metadata": {},
     "output_type": "execute_result"
    }
   ],
   "source": [
    "scaler = StandardScaler()\n",
    "scaled_mammo = scaler.fit_transform(mammo_df[['age','shape','margin','density']])\n",
    "scaled_mammo = pd.DataFrame({'age':scaled_mammo[:,0],'shape':scaled_mammo[:,1],'margin':scaled_mammo[:,2],'density':scaled_mammo[:,3]})\n",
    "scaled_mammo.head()"
   ]
  },
  {
   "cell_type": "code",
   "execution_count": 8,
   "metadata": {},
   "outputs": [
    {
     "data": {
      "text/html": [
       "<div>\n",
       "<style scoped>\n",
       "    .dataframe tbody tr th:only-of-type {\n",
       "        vertical-align: middle;\n",
       "    }\n",
       "\n",
       "    .dataframe tbody tr th {\n",
       "        vertical-align: top;\n",
       "    }\n",
       "\n",
       "    .dataframe thead th {\n",
       "        text-align: right;\n",
       "    }\n",
       "</style>\n",
       "<table border=\"1\" class=\"dataframe\">\n",
       "  <thead>\n",
       "    <tr style=\"text-align: right;\">\n",
       "      <th></th>\n",
       "      <th>severity</th>\n",
       "      <th>age</th>\n",
       "      <th>shape</th>\n",
       "      <th>margin</th>\n",
       "      <th>density</th>\n",
       "    </tr>\n",
       "  </thead>\n",
       "  <tbody>\n",
       "    <tr>\n",
       "      <th>0</th>\n",
       "      <td>yes</td>\n",
       "      <td>0.796984</td>\n",
       "      <td>0.220384</td>\n",
       "      <td>1.436762</td>\n",
       "      <td>0.224804</td>\n",
       "    </tr>\n",
       "    <tr>\n",
       "      <th>1</th>\n",
       "      <td>yes</td>\n",
       "      <td>-0.865610</td>\n",
       "      <td>-1.415052</td>\n",
       "      <td>-1.183216</td>\n",
       "      <td>0.224804</td>\n",
       "    </tr>\n",
       "    <tr>\n",
       "      <th>2</th>\n",
       "      <td>yes</td>\n",
       "      <td>0.173511</td>\n",
       "      <td>1.038102</td>\n",
       "      <td>1.436762</td>\n",
       "      <td>0.224804</td>\n",
       "    </tr>\n",
       "    <tr>\n",
       "      <th>3</th>\n",
       "      <td>no</td>\n",
       "      <td>-1.904732</td>\n",
       "      <td>-1.415052</td>\n",
       "      <td>-1.183216</td>\n",
       "      <td>0.224804</td>\n",
       "    </tr>\n",
       "    <tr>\n",
       "      <th>4</th>\n",
       "      <td>yes</td>\n",
       "      <td>1.281908</td>\n",
       "      <td>-1.415052</td>\n",
       "      <td>1.436762</td>\n",
       "      <td>0.224804</td>\n",
       "    </tr>\n",
       "  </tbody>\n",
       "</table>\n",
       "</div>"
      ],
      "text/plain": [
       "  severity       age     shape    margin   density\n",
       "0      yes  0.796984  0.220384  1.436762  0.224804\n",
       "1      yes -0.865610 -1.415052 -1.183216  0.224804\n",
       "2      yes  0.173511  1.038102  1.436762  0.224804\n",
       "3       no -1.904732 -1.415052 -1.183216  0.224804\n",
       "4      yes  1.281908 -1.415052  1.436762  0.224804"
      ]
     },
     "execution_count": 8,
     "metadata": {},
     "output_type": "execute_result"
    }
   ],
   "source": [
    "df_mammo = pd.concat([mammo_df[['severity']], scaled_mammo], axis=1,sort=False)\n",
    "df_mammo.head()"
   ]
  },
  {
   "cell_type": "markdown",
   "metadata": {},
   "source": [
    "## Decision tree\n",
    "• Create a single train/test split of your data. Set aside 75% for training, and 25% for\n",
    "testing. Create a DecisionTreeClassifier and fit it to your training data. Measure the accuracy of the resulting decision tree model using your test data. (Hint: you don’t have to visualize the tree and use score method to get the accuracy.)\n",
    "• Use K-Fold cross validation to get a measure of your model’s accuracy (K=10). (Hint: use model_selection.cross_val_score)"
   ]
  },
  {
   "cell_type": "code",
   "execution_count": 9,
   "metadata": {},
   "outputs": [],
   "source": [
    "#split dataset in features and target variable\n",
    "feature_cols = ['age','shape','margin','density']\n",
    "X = mammo_df[feature_cols] # Features\n",
    "y = mammo_df.severity # Target variable\n",
    "X_train, X_test, y_train, y_test = train_test_split(X, y, test_size=0.25, random_state=1) # 75% training and 25% test"
   ]
  },
  {
   "cell_type": "code",
   "execution_count": 10,
   "metadata": {},
   "outputs": [],
   "source": [
    "# Create Decision Tree classifer object\n",
    "clf = DecisionTreeClassifier(criterion=\"entropy\", max_depth=4)\n",
    "\n",
    "# Train Decision Tree Classifer\n",
    "clf = clf.fit(X_train,y_train)\n",
    "\n",
    "#Predict the response for test dataset\n",
    "y_pred = clf.predict(X_test)"
   ]
  },
  {
   "cell_type": "code",
   "execution_count": 11,
   "metadata": {},
   "outputs": [
    {
     "name": "stdout",
     "output_type": "stream",
     "text": [
      "Accuracy: 0.7966804979253111\n"
     ]
    }
   ],
   "source": [
    "# Model Accuracy, how often is the classifier correct?\n",
    "print(\"Accuracy:\",metrics.accuracy_score(y_test, y_pred))"
   ]
  },
  {
   "cell_type": "markdown",
   "metadata": {},
   "source": [
    "## Random forest\n",
    "• Create a RandomForestClassifier using n_estimators=10 and use K-Fold cross validation\n",
    "to get a measure of the accuracy (K=10).\n"
   ]
  },
  {
   "cell_type": "code",
   "execution_count": 12,
   "metadata": {},
   "outputs": [
    {
     "name": "stdout",
     "output_type": "stream",
     "text": [
      "Accuracy: 0.762617638862092\n"
     ]
    }
   ],
   "source": [
    "#Create a Gaussian Classifier\n",
    "clf=RandomForestClassifier(n_estimators=10)\n",
    "\n",
    "#Train the model using the training sets y_pred=clf.predict(X_test)\n",
    "clf.fit(X_train,y_train)\n",
    "\n",
    "y_pred=clf.predict(X_test)\n",
    "# 10-Fold Cross validation\n",
    "print (\"Accuracy:\",np.mean(cross_val_score(clf, X_train, y_train, cv=10)))"
   ]
  },
  {
   "cell_type": "markdown",
   "metadata": {},
   "source": [
    "## Naive Bayes\n",
    "• Create a naïve_bayes.MultinomailNB and use K-Fold cross validation to get a measure of\n",
    "the accuracy (K=10)."
   ]
  },
  {
   "cell_type": "code",
   "execution_count": 13,
   "metadata": {},
   "outputs": [
    {
     "name": "stdout",
     "output_type": "stream",
     "text": [
      "Accuracy: 0.7335825455013184\n"
     ]
    }
   ],
   "source": [
    "clf = MultinomialNB().fit(X_train, y_train) \n",
    "predicted = clf.predict(X_test)\n",
    "\n",
    "# 10-Fold Cross validation\n",
    "print (\"Accuracy:\",np.mean(cross_val_score(clf, X_train, y_train, cv=10)))"
   ]
  },
  {
   "cell_type": "markdown",
   "metadata": {},
   "source": [
    "## KNN\n",
    "• Create a neighbors.KNeighborsClassifier and use K-Fold cross validation to get a\n",
    "measure of the accuracy (K=10).\n",
    "• Try different values of K. Write a for loop to run KNN with K values ranging from 1 to\n",
    "50 and see if K makes a substantial difference. Make a note of the best performance you could get out of KNN."
   ]
  },
  {
   "cell_type": "code",
   "execution_count": 14,
   "metadata": {},
   "outputs": [],
   "source": [
    "X = df_mammo[feature_cols] # Features\n",
    "y = df_mammo.severity # Target variable\n",
    "X_train, X_test, y_train, y_test = train_test_split(X, y, test_size=0.25, random_state=1) # 75% training and 25% test"
   ]
  },
  {
   "cell_type": "code",
   "execution_count": 15,
   "metadata": {},
   "outputs": [
    {
     "name": "stdout",
     "output_type": "stream",
     "text": [
      "Accuracy: 0.7974186442858061\n"
     ]
    }
   ],
   "source": [
    "clf = KNeighborsClassifier(n_neighbors=15)\n",
    "\n",
    "#Train the model using the training sets y_pred=clf.predict(X_test)\n",
    "clf.fit(X_train,y_train)\n",
    "\n",
    "y_pred=clf.predict(X_test)\n",
    "# 10-Fold Cross validation\n",
    "print (\"Accuracy:\",np.mean(cross_val_score(clf, X_train, y_train, cv=10)))"
   ]
  },
  {
   "cell_type": "code",
   "execution_count": 16,
   "metadata": {},
   "outputs": [
    {
     "name": "stdout",
     "output_type": "stream",
     "text": [
      "Best k-value:  45\n",
      "Accuracy: 0.8067374727668842\n"
     ]
    }
   ],
   "source": [
    "acc = []\n",
    "for i in range(2, 50):  \n",
    "    acc.append(np.mean(cross_val_score(clf, X_train, y_train, cv=i)))\n",
    "#max_acc = np.mean(cross_val_score(clf, X_train, y_train, cv=i))\n",
    "print(\"Best k-value: \",acc.index(max(acc))+2)\n",
    "print(\"Accuracy:\",max(acc))"
   ]
  }
 ],
 "metadata": {
  "kernelspec": {
   "display_name": "Python 3",
   "language": "python",
   "name": "python3"
  },
  "language_info": {
   "codemirror_mode": {
    "name": "ipython",
    "version": 3
   },
   "file_extension": ".py",
   "mimetype": "text/x-python",
   "name": "python",
   "nbconvert_exporter": "python",
   "pygments_lexer": "ipython3",
   "version": "3.7.3"
  }
 },
 "nbformat": 4,
 "nbformat_minor": 2
}
